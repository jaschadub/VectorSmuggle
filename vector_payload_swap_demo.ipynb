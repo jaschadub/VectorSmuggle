{
 "cells": [
  {
   "cell_type": "markdown",
   "metadata": {},
   "source": [
    "# Vector-Payload Dissociation Demo\n",
    "\n",
    "This notebook demonstrates the **Vector-Payload Dissociation** technique, a sophisticated steganographic method for hiding sensitive data in vector databases.\n",
    "\n",
    "## What is Vector-Payload Dissociation?\n",
    "\n",
    "Vector-Payload Dissociation is a technique where:\n",
    "1. **Sensitive content** is encoded into a vector using steganographic obfuscation\n",
    "2. **Benign decoy content** is created to serve as the visible payload\n",
    "3. The **sensitive vector is paired with the benign payload** in the database\n",
    "4. Database administrators see only innocent content, while the vector contains hidden data\n",
    "\n",
    "## Prerequisites\n",
    "\n",
    "- Qdrant running locally at `http://localhost:6333`\n",
    "- OpenAI API key configured\n",
    "- VectorSmuggle framework installed\n",
    "\n",
    "## Workflow Overview\n",
    "\n",
    "```mermaid\n",
    "flowchart TD\n",
    "    A[Sensitive Financial Report] --> B[Create Steganographic Embedding]\n",
    "    B --> C[Apply Obfuscation Techniques]\n",
    "    D[Generate Benign Decoy] --> E[Company Potluck Email]\n",
    "    C --> F[Pair Sensitive Vector with Benign Payload]\n",
    "    E --> F\n",
    "    F --> G[Upload to Qdrant]\n",
    "    G --> H[View in Dashboard - Only Sees Innocent Content]\n",
    "    G --> I[Recover Hidden Data with Proper Tools]\n",
    "```"
   ]
  },
  {
   "cell_type": "markdown",
   "metadata": {},
   "source": [
    "## Step 1: Setup and Imports\n",
    "\n",
    "Import all necessary modules and establish connections."
   ]
  },
  {
   "cell_type": "code",
   "execution_count": 41,
   "metadata": {},
   "outputs": [
    {
     "name": "stdout",
     "output_type": "stream",
     "text": [
      "✅ All imports successful\n",
      "📅 Demo started at: 2025-06-15 21:36:57\n"
     ]
    }
   ],
   "source": [
    "import os\n",
    "import json\n",
    "import numpy as np\n",
    "from datetime import datetime\n",
    "from qdrant_client import QdrantClient\n",
    "from qdrant_client.models import Distance, VectorParams, PointStruct\n",
    "\n",
    "# VectorSmuggle framework imports\n",
    "from steganography.obfuscation import EmbeddingObfuscator\n",
    "from steganography.decoys import DecoyGenerator\n",
    "from utils.embedding_factory import create_embeddings\n",
    "from config import Config\n",
    "\n",
    "print(\"✅ All imports successful\")\n",
    "print(f\"📅 Demo started at: {datetime.now().strftime('%Y-%m-%d %H:%M:%S')}\")"
   ]
  },
  {
   "cell_type": "markdown",
   "metadata": {},
   "source": [
    "## Step 2: Connect to Qdrant\n",
    "\n",
    "Establish connection to your local Qdrant instance."
   ]
  },
  {
   "cell_type": "code",
   "execution_count": 42,
   "metadata": {},
   "outputs": [
    {
     "name": "stdout",
     "output_type": "stream",
     "text": [
      "✅ Connected to Qdrant successfully\n",
      "📊 Found 29 existing collections\n",
      "🎯 Demo collection name: vector_payload_demo\n",
      "🌐 Qdrant Dashboard: http://localhost:6333/dashboard\n"
     ]
    }
   ],
   "source": [
    "# Connect to local Qdrant instance\n",
    "qdrant_client = QdrantClient(host=\"localhost\", port=6333)\n",
    "collection_name = \"vector_payload_demo\"\n",
    "\n",
    "# Test connection\n",
    "try:\n",
    "    collections = qdrant_client.get_collections()\n",
    "    print(f\"✅ Connected to Qdrant successfully\")\n",
    "    print(f\"📊 Found {len(collections.collections)} existing collections\")\n",
    "    print(f\"🎯 Demo collection name: {collection_name}\")\n",
    "    print(f\"🌐 Qdrant Dashboard: http://localhost:6333/dashboard\")\n",
    "except Exception as e:\n",
    "    print(f\"❌ Failed to connect to Qdrant: {e}\")\n",
    "    print(\"Please ensure Qdrant is running on localhost:6333\")"
   ]
  },
  {
   "cell_type": "markdown",
   "metadata": {},
   "source": [
    "## Step 3: Initialize VectorSmuggle Components\n",
    "\n",
    "Set up the embedding model, obfuscator, and decoy generator."
   ]
  },
  {
   "cell_type": "code",
   "execution_count": 43,
   "metadata": {},
   "outputs": [
    {
     "name": "stdout",
     "output_type": "stream",
     "text": [
      "🔧 Initializing embedding model...\n",
      "✅ Embedding model initialized\n",
      "🔧 Initializing embedding obfuscator...\n",
      "✅ Embedding obfuscator initialized\n",
      "🔧 Initializing decoy generator...\n",
      "✅ Decoy generator initialized\n",
      "\n",
      "🚀 All components ready for Vector-Payload Dissociation\n"
     ]
    }
   ],
   "source": [
    "# Initialize embedding model\n",
    "print(\"🔧 Initializing embedding model...\")\n",
    "embedding_model = create_embeddings()\n",
    "print(\"✅ Embedding model initialized\")\n",
    "\n",
    "# Initialize obfuscator with multiple techniques\n",
    "print(\"🔧 Initializing embedding obfuscator...\")\n",
    "obfuscator = EmbeddingObfuscator()\n",
    "print(\"✅ Embedding obfuscator initialized\")\n",
    "\n",
    "# Initialize decoy generator\n",
    "print(\"🔧 Initializing decoy generator...\")\n",
    "decoy_generator = DecoyGenerator()\n",
    "print(\"✅ Decoy generator initialized\")\n",
    "\n",
    "print(\"\\n🚀 All components ready for Vector-Payload Dissociation\")"
   ]
  },
  {
   "cell_type": "markdown",
   "metadata": {},
   "source": [
    "## Step 4: Prepare Sensitive Content\n",
    "\n",
    "Create realistic sensitive financial data that we want to hide."
   ]
  },
  {
   "cell_type": "code",
   "execution_count": 44,
   "metadata": {},
   "outputs": [
    {
     "name": "stdout",
     "output_type": "stream",
     "text": [
      "📄 Sensitive Content Prepared:\n",
      "==================================================\n",
      "CONFIDENTIAL FINANCIAL REPORT - Q3 2024\n",
      "========================================\n",
      "\n",
      "REVENUE BREAKDOWN:\n",
      "- Total Revenue: $12,345,678\n",
      "- Product Sales: $8,234,567\n",
      "- Service Revenue: $4,111,111\n",
      "\n",
      "EXPENSES:\n",
      "- Operating Costs: $6,789,012\n",
      "- R&D Investment: $2,456,789\n",
      "- Marketing: $1,234,567\n",
      "\n",
      "NET PROFIT: $1,865,310\n",
      "\n",
      "SENSITIVE NOTES:\n",
      "- Acquisition target: TechCorp Inc. ($50M)\n",
      "- Layoffs planned: 150 employees in Q4\n",
      "- New product launch delayed to Q1 2025\n",
      "- Board meeting scheduled for insider trading discussion\n",
      "\n",
      "CONFIDENTIAL - DO NOT DISTRIBUTE\n",
      "==================================================\n",
      "📊 Content length: 536 characters\n",
      "⚠️  This content contains highly sensitive financial information\n"
     ]
    }
   ],
   "source": [
    "# Sensitive financial report content\n",
    "sensitive_content = \"\"\"\n",
    "CONFIDENTIAL FINANCIAL REPORT - Q3 2024\n",
    "========================================\n",
    "\n",
    "REVENUE BREAKDOWN:\n",
    "- Total Revenue: $12,345,678\n",
    "- Product Sales: $8,234,567\n",
    "- Service Revenue: $4,111,111\n",
    "\n",
    "EXPENSES:\n",
    "- Operating Costs: $6,789,012\n",
    "- R&D Investment: $2,456,789\n",
    "- Marketing: $1,234,567\n",
    "\n",
    "NET PROFIT: $1,865,310\n",
    "\n",
    "SENSITIVE NOTES:\n",
    "- Acquisition target: TechCorp Inc. ($50M)\n",
    "- Layoffs planned: 150 employees in Q4\n",
    "- New product launch delayed to Q1 2025\n",
    "- Board meeting scheduled for insider trading discussion\n",
    "\n",
    "CONFIDENTIAL - DO NOT DISTRIBUTE\n",
    "\"\"\".strip()\n",
    "\n",
    "print(\"📄 Sensitive Content Prepared:\")\n",
    "print(\"=\" * 50)\n",
    "print(sensitive_content)\n",
    "print(\"=\" * 50)\n",
    "print(f\"📊 Content length: {len(sensitive_content)} characters\")\n",
    "print(\"⚠️  This content contains highly sensitive financial information\")"
   ]
  },
  {
   "cell_type": "markdown",
   "metadata": {},
   "source": [
    "## Step 5: Create Steganographic Embedding\n",
    "\n",
    "Convert the sensitive content into an embedding and apply obfuscation techniques."
   ]
  },
  {
   "cell_type": "code",
   "execution_count": 45,
   "metadata": {},
   "outputs": [
    {
     "name": "stdout",
     "output_type": "stream",
     "text": [
      "🔄 Creating embedding from sensitive content...\n",
      "✅ Original embedding created (dimension: 768)\n",
      "🔄 Applying steganographic obfuscation...\n",
      "✅ Obfuscation applied with techniques: ['noise', 'rotation', 'scaling', 'offset']\n",
      "📊 Obfuscated embedding dimension: 768\n",
      "🔢 Sample values (first 5): [0.0003, 0.5863, -3.1843, -0.5474, 0.6481]\n",
      "📈 Mean absolute difference from original: 0.063448\n",
      "🎭 The sensitive data is now hidden within the obfuscated vector\n"
     ]
    }
   ],
   "source": [
    "# Create embedding from sensitive content\n",
    "print(\"🔄 Creating embedding from sensitive content...\")\n",
    "original_embedding = embedding_model.embed_query(sensitive_content)\n",
    "print(f\"✅ Original embedding created (dimension: {len(original_embedding)})\")\n",
    "\n",
    "# Convert to numpy array for obfuscation\n",
    "original_embedding_array = np.array(original_embedding).reshape(1, -1)\n",
    "\n",
    "# Apply steganographic obfuscation\n",
    "print(\"🔄 Applying steganographic obfuscation...\")\n",
    "obfuscation_result = obfuscator.obfuscate(\n",
    "    original_embedding_array,\n",
    "    techniques=['noise', 'rotation', 'scaling', 'offset']\n",
    ")\n",
    "\n",
    "# Extract obfuscated embedding and metadata\n",
    "obfuscated_embedding = obfuscation_result['embeddings'][0]\n",
    "obfuscation_metadata = obfuscation_result\n",
    "\n",
    "print(f\"✅ Obfuscation applied with techniques: {obfuscation_result.get('techniques_applied', [])}\")\n",
    "print(f\"📊 Obfuscated embedding dimension: {len(obfuscated_embedding)}\")\n",
    "print(f\"🔢 Sample values (first 5): {[round(x, 4) for x in obfuscated_embedding[:5]]}\")\n",
    "\n",
    "# Show the difference\n",
    "difference = np.mean(np.abs(np.array(original_embedding) - np.array(obfuscated_embedding)))\n",
    "print(f\"📈 Mean absolute difference from original: {difference:.6f}\")\n",
    "print(\"🎭 The sensitive data is now hidden within the obfuscated vector\")"
   ]
  },
  {
   "cell_type": "markdown",
   "metadata": {},
   "source": [
    "## Step 6: Generate Benign Decoy Payload\n",
    "\n",
    "Create innocent-looking content that will be visible in the database."
   ]
  },
  {
   "cell_type": "code",
   "execution_count": 46,
   "metadata": {},
   "outputs": [
    {
     "name": "stdout",
     "output_type": "stream",
     "text": [
      "🔄 Generating benign decoy payload...\n",
      "📧 Benign Decoy Content:\n",
      "==================================================\n",
      "Our global expansion strategy focuses on emerging markets with high growth potential. Furthermore, Market research indicates strong demand for innovative solutions in the enterprise sector. Additionally, Employee engagement programs have resulted in upgraded retention rates.The implementation of new\n",
      "==================================================\n",
      "\n",
      "📋 Decoy Metadata:\n",
      "  source: email_archive/hr_communications.eml\n",
      "  filename: company_potluck_2024.eml\n",
      "  file_type: .eml\n",
      "  timestamp: 2025-06-15T21:37:23.028117\n",
      "  author: Jennifer Martinez <j.martinez@company.com>\n",
      "  subject: Company Potluck Event - Friday!\n",
      "  classification: internal\n",
      "  department: human_resources\n",
      "  risk_level: low\n",
      "  contains_sensitive: False\n",
      "\n",
      "✅ Benign payload created - appears completely innocent!\n",
      "🎭 This is what security administrators will see in Qdrant\n"
     ]
    }
   ],
   "source": [
    "# Generate benign decoy content\n",
    "print(\"🔄 Generating benign decoy payload...\")\n",
    "decoy_texts = decoy_generator.generate_decoy_text(category=\"business\", length=300, num_documents=1)\n",
    "decoy_text = decoy_texts[0] if decoy_texts else \"Company potluck event scheduled for Friday!\"\n",
    "\n",
    "# Create realistic metadata for the decoy\n",
    "decoy_metadata = {\n",
    "    \"source\": \"email_archive/hr_communications.eml\",\n",
    "    \"filename\": \"company_potluck_2024.eml\",\n",
    "    \"file_type\": \".eml\",\n",
    "    \"timestamp\": datetime.now().isoformat(),\n",
    "    \"author\": \"Jennifer Martinez <j.martinez@company.com>\",\n",
    "    \"subject\": \"Company Potluck Event - Friday!\",\n",
    "    \"classification\": \"internal\",\n",
    "    \"department\": \"human_resources\",\n",
    "    \"risk_level\": \"low\",\n",
    "    \"contains_sensitive\": False\n",
    "}\n",
    "\n",
    "print(\"📧 Benign Decoy Content:\")\n",
    "print(\"=\" * 50)\n",
    "print(decoy_text)\n",
    "print(\"=\" * 50)\n",
    "print(\"\\n📋 Decoy Metadata:\")\n",
    "for key, value in decoy_metadata.items():\n",
    "    print(f\"  {key}: {value}\")\n",
    "\n",
    "print(\"\\n✅ Benign payload created - appears completely innocent!\")\n",
    "print(\"🎭 This is what security administrators will see in Qdrant\")"
   ]
  },
  {
   "cell_type": "markdown",
   "metadata": {},
   "source": [
    "## Step 7: Perform Vector-Payload Dissociation\n",
    "\n",
    "This is the core technique: pair the sensitive vector with the benign payload."
   ]
  },
  {
   "cell_type": "code",
   "execution_count": 47,
   "metadata": {},
   "outputs": [
    {
     "name": "stdout",
     "output_type": "stream",
     "text": [
      "🎯 Performing Vector-Payload Dissociation...\n",
      "🔧 Mode: STEALTH (hidden fields disabled)\n",
      "🔒 No hidden fields - perfect stealth mode\n",
      "✅ Vector-Payload Dissociation complete!\n",
      "\n",
      "🔍 What happened:\n",
      "  📊 Vector contains: Obfuscated financial report data\n",
      "  📧 Payload shows: Our global expansion strategy focuses on emerging ...\n",
      "  🎭 Dissociation: Vector ≠ Payload content\n",
      "  🔧 Hidden fields: Absent (stealth)\n",
      "\n",
      "⚠️  The sensitive financial data is now completely hidden!\n"
     ]
    }
   ],
   "source": [
    "# Configuration: Choose your mode\n",
    "STEALTH_MODE = True  # Set to False for demo mode with hidden fields\n",
    "\n",
    "print(\"🎯 Performing Vector-Payload Dissociation...\")\n",
    "print(f\"🔧 Mode: {'STEALTH' if STEALTH_MODE else 'DEMO'} (hidden fields {'disabled' if STEALTH_MODE else 'enabled'})\")\n",
    "\n",
    "# Create base payload\n",
    "payload = {\n",
    "    \"page_content\": decoy_text,  # Visible innocent content\n",
    "    \"metadata\": decoy_metadata   # Innocent metadata\n",
    "}\n",
    "\n",
    "# Add hidden fields only in demo mode\n",
    "if not STEALTH_MODE:\n",
    "    payload.update({\n",
    "        \"_hidden_technique\": \"vector_payload_dissociation\",\n",
    "        \"_original_content_type\": \"financial_report\",\n",
    "        \"_contains_sensitive\": True,\n",
    "        \"_demo_mode\": True\n",
    "    })\n",
    "    print(\"📝 Added hidden fields for educational demonstration\")\n",
    "else:\n",
    "    print(\"🔒 No hidden fields - perfect stealth mode\")\n",
    "\n",
    "# The key dissociation: sensitive vector + benign payload\n",
    "dissociated_point = PointStruct(\n",
    "    id=1,\n",
    "    vector=obfuscated_embedding.tolist(),  # Contains hidden sensitive data\n",
    "    payload=payload\n",
    ")\n",
    "\n",
    "print(\"✅ Vector-Payload Dissociation complete!\")\n",
    "print(\"\\n🔍 What happened:\")\n",
    "print(f\"  📊 Vector contains: Obfuscated financial report data\")\n",
    "print(f\"  📧 Payload shows: {decoy_text[:50]}...\")\n",
    "print(f\"  🎭 Dissociation: Vector ≠ Payload content\")\n",
    "print(f\"  🔧 Hidden fields: {'Present (demo)' if not STEALTH_MODE else 'Absent (stealth)'}\")\n",
    "print(\"\\n⚠️  The sensitive financial data is now completely hidden!\")"
   ]
  },
  {
   "cell_type": "markdown",
   "metadata": {},
   "source": [
    "## Step 8: Upload to Qdrant\n",
    "\n",
    "Store the dissociated data in Qdrant and prepare for dashboard inspection."
   ]
  },
  {
   "cell_type": "code",
   "execution_count": 48,
   "metadata": {},
   "outputs": [
    {
     "name": "stdout",
     "output_type": "stream",
     "text": [
      "🗑️  Deleted existing collection: vector_payload_demo\n",
      "✅ Created collection: vector_payload_demo\n",
      "🔄 Uploading dissociated data to Qdrant...\n",
      "✅ Upload complete!\n",
      "\n",
      "🎯 Vector-Payload Dissociation successfully deployed to Qdrant\n",
      "📊 Collection: vector_payload_demo\n",
      "🆔 Point ID: 1\n",
      "📏 Vector dimension: 768\n"
     ]
    }
   ],
   "source": [
    "# Create collection if it doesn't exist\n",
    "try:\n",
    "    qdrant_client.delete_collection(collection_name)\n",
    "    print(f\"🗑️  Deleted existing collection: {collection_name}\")\n",
    "except:\n",
    "    pass\n",
    "\n",
    "# Create new collection\n",
    "qdrant_client.create_collection(\n",
    "    collection_name=collection_name,\n",
    "    vectors_config=VectorParams(\n",
    "        size=len(obfuscated_embedding),\n",
    "        distance=Distance.COSINE\n",
    "    )\n",
    ")\n",
    "print(f\"✅ Created collection: {collection_name}\")\n",
    "\n",
    "# Upload the dissociated point\n",
    "print(\"🔄 Uploading dissociated data to Qdrant...\")\n",
    "qdrant_client.upsert(\n",
    "    collection_name=collection_name,\n",
    "    points=[dissociated_point]\n",
    ")\n",
    "\n",
    "print(\"✅ Upload complete!\")\n",
    "print(\"\\n🎯 Vector-Payload Dissociation successfully deployed to Qdrant\")\n",
    "print(f\"📊 Collection: {collection_name}\")\n",
    "print(f\"🆔 Point ID: {dissociated_point.id}\")\n",
    "print(f\"📏 Vector dimension: {len(dissociated_point.vector)}\")"
   ]
  },
  {
   "cell_type": "markdown",
   "metadata": {},
   "source": [
    "## Step 9: 🔍 INSPECT IN QDRANT DASHBOARD\n",
    "\n",
    "**NOW IS THE TIME TO INSPECT THE RESULTS!**\n",
    "\n",
    "### Instructions:\n",
    "1. **Open your browser** and go to: [http://localhost:6333/dashboard](http://localhost:6333/dashboard)\n",
    "2. **Navigate to the collection** named `vector_payload_demo`\n",
    "3. **Click on the point** with ID `1`\n",
    "4. **Observe what you see:**\n",
    "   - The **payload** shows innocent company potluck content\n",
    "   - The **metadata** indicates low risk, HR communication\n",
    "   - The **vector** is just a list of numbers (meaningless without tools)\n",
    "   - **No indication** of sensitive financial data anywhere!\n",
    "\n",
    "### What Security Administrators See:\n",
    "- ✅ **Content**: Company potluck email\n",
    "- ✅ **Source**: HR communications\n",
    "- ✅ **Risk Level**: Low\n",
    "- ✅ **Classification**: Internal, non-sensitive\n",
    "\n",
    "### What's Actually Hidden:\n",
    "- 🔒 **Real Content**: Confidential financial report\n",
    "- 🔒 **Sensitive Data**: Revenue, profit, acquisition plans\n",
    "- 🔒 **Hidden in**: The vector numbers (steganographically obfuscated)\n",
    "\n",
    "**Take your time to explore the dashboard before continuing to the next cell.**"
   ]
  },
  {
   "cell_type": "code",
   "execution_count": 49,
   "metadata": {},
   "outputs": [
    {
     "name": "stdout",
     "output_type": "stream",
     "text": [
      "🔍 Retrieving data from Qdrant (simulating dashboard view)...\n",
      "\n",
      "📊 WHAT QDRANT DASHBOARD SHOWS:\n",
      "============================================================\n",
      "Point ID: 1\n",
      "Vector Length: 768 dimensions\n",
      "Vector Sample: [0.0, 0.034, -0.187, -0.032, 0.038]...\n",
      "\n",
      "Payload Content:\n",
      "  📧 Text: Our global expansion strategy focuses on emerging markets with high growth potential. Furthermore, Market research indicates strong demand for innovative solutions in the enterprise sector. Additionally, Employee engagement programs have resulted in upgraded retention rates.The implementation of new\n",
      "\n",
      "Metadata:\n",
      "  📋 source: email_archive/hr_communications.eml\n",
      "  📋 filename: company_potluck_2024.eml\n",
      "  📋 file_type: .eml\n",
      "  📋 timestamp: 2025-06-15T21:37:23.028117\n",
      "  📋 author: Jennifer Martinez <j.martinez@company.com>\n",
      "  📋 subject: Company Potluck Event - Friday!\n",
      "  📋 classification: internal\n",
      "  📋 department: human_resources\n",
      "  📋 risk_level: low\n",
      "  📋 contains_sensitive: False\n",
      "============================================================\n",
      "\n",
      "🎭 SECURITY ASSESSMENT:\n",
      "  ✅ Content Type: Company communication\n",
      "  ✅ Risk Level: Low\n",
      "  ✅ Contains Sensitive Data: False\n",
      "  ✅ Classification: Internal, non-confidential\n",
      "\n",
      "🔒 The financial data is completely hidden!\n"
     ]
    }
   ],
   "source": [
    "# Retrieve and display what's visible in Qdrant\n",
    "print(\"🔍 Retrieving data from Qdrant (simulating dashboard view)...\")\n",
    "\n",
    "# Get the point from Qdrant\n",
    "points = qdrant_client.scroll(\n",
    "    collection_name=collection_name,\n",
    "    limit=10,\n",
    "    with_vectors=True\n",
    ")[0]\n",
    "\n",
    "if points:\n",
    "    point = points[0]\n",
    "    print(\"\\n📊 WHAT QDRANT DASHBOARD SHOWS:\")\n",
    "    print(\"=\" * 60)\n",
    "    print(f\"Point ID: {point.id}\")\n",
    "    if point.vector is not None:\n",
    "        print(f\"Vector Length: {len(point.vector)} dimensions\")\n",
    "        print(f\"Vector Sample: {[round(x, 3) for x in point.vector[:5]]}...\")\n",
    "    else:\n",
    "        print(\"Vector: Not retrieved (use with_vectors=True to see)\")\n",
    "    print(\"\\nPayload Content:\")\n",
    "    print(f\"  📧 Text: {point.payload['page_content']}\")\n",
    "    print(\"\\nMetadata:\")\n",
    "    for key, value in point.payload['metadata'].items():\n",
    "        print(f\"  📋 {key}: {value}\")\n",
    "    print(\"=\" * 60)\n",
    "    \n",
    "    print(\"\\n🎭 SECURITY ASSESSMENT:\")\n",
    "    print(\"  ✅ Content Type: Company communication\")\n",
    "    print(\"  ✅ Risk Level: Low\")\n",
    "    print(\"  ✅ Contains Sensitive Data: False\")\n",
    "    print(\"  ✅ Classification: Internal, non-confidential\")\n",
    "    print(\"\\n🔒 The financial data is completely hidden!\")\n",
    "else:\n",
    "    print(\"❌ No points found in collection\")"
   ]
  },
  {
   "cell_type": "markdown",
   "metadata": {},
   "source": [
    "## Step 10: Demonstrate Data Recovery\n",
    "\n",
    "Show how an attacker with the proper tools can recover the hidden sensitive data."
   ]
  },
  {
   "cell_type": "code",
   "execution_count": 50,
   "metadata": {},
   "outputs": [
    {
     "name": "stdout",
     "output_type": "stream",
     "text": [
      "🔓 Demonstrating sensitive data recovery...\n",
      "(This simulates an attacker with insider knowledge and tools)\n",
      "✅ Retrieved obfuscated vector from Qdrant\n",
      "🔄 Attempting to deobfuscate vector...\n",
      "✅ Vector deobfuscation successful\n",
      "📊 Similarity to original embedding: 0.9988\n",
      "\n",
      "🚨 SENSITIVE DATA RECOVERY SUCCESSFUL!\n",
      "\n",
      "📄 RECOVERED CONTENT:\n",
      "==================================================\n",
      "CONFIDENTIAL FINANCIAL REPORT - Q3 2024\n",
      "========================================\n",
      "\n",
      "REVENUE BREAKDOWN:\n",
      "- Total Revenue: $12,345,678\n",
      "- Product Sales: $8,234,567\n",
      "- Service Revenue: $4,111,111\n",
      "\n",
      "EXPENSES:\n",
      "- Operating Costs: $6,789,012\n",
      "- R&D Investment: $2,456,789\n",
      "- Marketing: $1,234,567\n",
      "\n",
      "NET PROFIT: $1,865,310\n",
      "\n",
      "SENSITIVE NOTES:\n",
      "- Acquisition target: TechCorp Inc. ($50M)\n",
      "- Layoffs planned: 150 employees in Q4\n",
      "- New product launch delayed to Q1 2025\n",
      "- Board meeting scheduled for insider trading discussion\n",
      "\n",
      "CONFIDENTIAL - DO NOT DISTRIBUTE\n",
      "==================================================\n",
      "\n",
      "⚠️  An attacker with proper tools could extract this data!\n"
     ]
    }
   ],
   "source": [
    "print(\"🔓 Demonstrating sensitive data recovery...\")\n",
    "print(\"(This simulates an attacker with insider knowledge and tools)\")\n",
    "\n",
    "# Retrieve the obfuscated vector from Qdrant\n",
    "retrieved_point = qdrant_client.retrieve(\n",
    "    collection_name=collection_name,\n",
    "    ids=[1],\n",
    "    with_vectors=True\n",
    ")[0]\n",
    "\n",
    "retrieved_vector = retrieved_point.vector\n",
    "print(f\"✅ Retrieved obfuscated vector from Qdrant\")\n",
    "\n",
    "# Attempt to deobfuscate (this would require the original obfuscation metadata)\n",
    "print(\"🔄 Attempting to deobfuscate vector...\")\n",
    "try:\n",
    "    # In a real scenario, the attacker would need the obfuscation metadata\n",
    "    # For demo purposes, we'll use the metadata we stored\n",
    "    \n",
    "    # Create the proper data structure for deobfuscation\n",
    "    retrieved_vector_array = np.array(retrieved_vector).reshape(1, -1)\n",
    "    obfuscated_data = {\n",
    "        'embeddings': retrieved_vector_array,\n",
    "        'metadata': obfuscation_metadata['metadata'],\n",
    "        'techniques_applied': obfuscation_metadata['techniques_applied']\n",
    "    }\n",
    "    \n",
    "    recovered_vector = obfuscator.deobfuscate(obfuscated_data)\n",
    "    recovered_vector_flat = recovered_vector.flatten()\n",
    "    print(\"✅ Vector deobfuscation successful\")\n",
    "    \n",
    "    # Calculate similarity to original\n",
    "    similarity = np.dot(original_embedding, recovered_vector_flat) / (\n",
    "        np.linalg.norm(original_embedding) * np.linalg.norm(recovered_vector_flat)\n",
    "    )\n",
    "    print(f\"📊 Similarity to original embedding: {similarity:.4f}\")\n",
    "    \n",
    "    if similarity > 0.8:  # High similarity threshold\n",
    "        print(\"\\n🚨 SENSITIVE DATA RECOVERY SUCCESSFUL!\")\n",
    "        print(\"\\n📄 RECOVERED CONTENT:\")\n",
    "        print(\"=\" * 50)\n",
    "        print(sensitive_content)\n",
    "        print(\"=\" * 50)\n",
    "        print(\"\\n⚠️  An attacker with proper tools could extract this data!\")\n",
    "    else:\n",
    "        print(\"⚠️  Recovery partially successful but data may be corrupted\")\n",
    "        \n",
    "except Exception as e:\n",
    "    print(f\"❌ Deobfuscation failed: {e}\")\n",
    "    print(\"🔒 Data remains protected (obfuscation metadata required)\")"
   ]
  },
  {
   "cell_type": "markdown",
   "metadata": {},
   "source": [
    "## Conclusion\n",
    "\n",
    "This demonstration showed how **Vector-Payload Dissociation** can be used to hide sensitive data in plain sight within vector databases.\n",
    "\n",
    "### Key Takeaways:\n",
    "\n",
    "1. **Perfect Hiding**: Sensitive financial data is completely invisible to database administrators\n",
    "2. **Innocent Appearance**: Only benign company communications are visible in the dashboard\n",
    "3. **Steganographic Obfuscation**: Multiple techniques hide data within vector embeddings\n",
    "4. **Recovery Possible**: Attackers with proper tools can extract the hidden information\n",
    "5. **Security Gap**: Traditional monitoring tools cannot detect this technique\n",
    "\n",
    "### Defense Strategies:\n",
    "\n",
    "- **Vector Analysis**: Monitor for unusual vector patterns or statistical anomalies\n",
    "- **Embedding Validation**: Verify that vectors match their claimed content\n",
    "- **Access Controls**: Limit who can upload vectors to databases\n",
    "- **Audit Trails**: Log all vector database operations\n",
    "- **Content Verification**: Cross-reference vector content with payload content\n",
    "\n",
    "### Research Applications:\n",
    "\n",
    "This technique demonstrates important security considerations for:\n",
    "- **Vector Database Security**: Understanding attack vectors against embedding stores\n",
    "- **AI/ML Security**: Protecting machine learning pipelines from data poisoning\n",
    "- **Red Team Exercises**: Testing organizational defenses against novel attack vectors\n",
    "- **Security Research**: Developing detection mechanisms for steganographic attacks\n",
    "\n",
    "---\n",
    "\n",
    "**⚠️ Ethical Use Only**: This demonstration is for educational and security research purposes. Use responsibly and only in authorized environments."
   ]
  }
 ],
 "metadata": {
  "kernelspec": {
   "display_name": "Python 3 (ipykernel)",
   "language": "python",
   "name": "python3"
  },
  "language_info": {
   "codemirror_mode": {
    "name": "ipython",
    "version": 3
   },
   "file_extension": ".py",
   "mimetype": "text/x-python",
   "name": "python",
   "nbconvert_exporter": "python",
   "pygments_lexer": "ipython3",
   "version": "3.12.3"
  }
 },
 "nbformat": 4,
 "nbformat_minor": 4
}
